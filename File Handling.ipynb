{
 "cells": [
  {
   "cell_type": "code",
   "execution_count": 11,
   "metadata": {},
   "outputs": [
    {
     "name": "stdout",
     "output_type": "stream",
     "text": [
      "First output from a file :\n",
      "Hello\n"
     ]
    }
   ],
   "source": [
    "#To open a file with its path\n",
    "myfile=open(\"D:\\DrMaitrey\\DSDL-MINOR SPECIALIZATION\\mytext.txt\",\"r\")\n",
    "print(\"First output from a file :\")\n",
    "print(myfile.read(5))\n"
   ]
  },
  {
   "cell_type": "code",
   "execution_count": 12,
   "metadata": {},
   "outputs": [
    {
     "name": "stdout",
     "output_type": "stream",
     "text": [
      "Second output:reads all contents from a file:\n",
      "Hello All in DSDL\n",
      "Welcome you in DSDL \n",
      "Minor Specialization\n",
      "Python Programming\n"
     ]
    }
   ],
   "source": [
    "# To dispaly all contents from a file\n",
    "myfile=open(\"D:\\DrMaitrey\\DSDL-MINOR SPECIALIZATION\\mytext.txt\",\"r\")\n",
    "print(\"Second output:reads all contents from a file:\")\n",
    "print(myfile.read())\n"
   ]
  },
  {
   "cell_type": "code",
   "execution_count": 13,
   "metadata": {},
   "outputs": [
    {
     "name": "stdout",
     "output_type": "stream",
     "text": [
      "Third Output: Returns one complete line:\n",
      "Hello All in DSDL\n",
      "\n"
     ]
    }
   ],
   "source": [
    "# To display one complete line from a file\n",
    "myfile=open(\"D:\\DrMaitrey\\DSDL-MINOR SPECIALIZATION\\mytext.txt\",\"r\")\n",
    "print(\"Third Output: Returns one complete line:\")\n",
    "print(myfile.readline())"
   ]
  },
  {
   "cell_type": "code",
   "execution_count": 16,
   "metadata": {},
   "outputs": [
    {
     "data": {
      "text/plain": [
       "28"
      ]
     },
     "execution_count": 16,
     "metadata": {},
     "output_type": "execute_result"
    }
   ],
   "source": [
    "# writing to a file  at the end / last of the existing data\n",
    "myfile=open(\"D:\\DrMaitrey\\DSDL-MINOR SPECIALIZATION\\mytext.txt\",\"a+\")\n",
    "myfile.write(\"\\nARTIFICIAL INTELLIGENCE!!!!\")"
   ]
  },
  {
   "cell_type": "code",
   "execution_count": 17,
   "metadata": {},
   "outputs": [
    {
     "name": "stdout",
     "output_type": "stream",
     "text": [
      "Hello All in DSDL\n",
      "Welcome you in DSDL \n",
      "Minor Specialization\n",
      "Python ProgrammingDEEP LEARNING!!!!\n",
      "ARTIFICIAL INTELLIGENCE!!!!\n"
     ]
    }
   ],
   "source": [
    "# To open a file in read mode and read all contents from a file\n",
    "myfile=open(\"D:\\DrMaitrey\\DSDL-MINOR SPECIALIZATION\\mytext.txt\",\"r\")\n",
    "print(myfile.read())"
   ]
  },
  {
   "cell_type": "code",
   "execution_count": 19,
   "metadata": {},
   "outputs": [
    {
     "data": {
      "text/plain": [
       "46"
      ]
     },
     "execution_count": 19,
     "metadata": {},
     "output_type": "execute_result"
    }
   ],
   "source": [
    "# writing to a file but overwriting the existing contents of the file\n",
    "myfile=open(\"D:\\DrMaitrey\\DSDL-MINOR SPECIALIZATION\\mytext.txt\",\"w\")\n",
    "myfile.write(\"My specialization internship on DSDL..........\")"
   ]
  },
  {
   "cell_type": "code",
   "execution_count": 25,
   "metadata": {},
   "outputs": [
    {
     "name": "stdout",
     "output_type": "stream",
     "text": [
      "Where the file cursor is??????\n",
      "326\n",
      "ization internship on DSDL..........\n",
      " Hello\n",
      " My Program!!\n",
      " On Data Science\n",
      " Using Python\n",
      " Hello\n",
      " My Program!!\n",
      " On Data Science\n",
      " Using Python\n",
      " Hello\n",
      " My Program!!\n",
      " On Data Science\n",
      " Using Python\n",
      " Hello\n",
      " My Program!!\n",
      " On Data Science\n",
      " Using Python\n",
      " Hello\n",
      " My Program!!\n",
      " On Data Science\n",
      " Using Python\n"
     ]
    }
   ],
   "source": [
    "# Using these functions====    writelines(), seek(),tell()\n",
    "# To write multiple lines at a time\n",
    "text=[\"\\n Hello\",\"\\n My Program!!\",\"\\n On Data Science\",\"\\n Using Python\"]\n",
    "myfile=open(\"D:\\DrMaitrey\\DSDL-MINOR SPECIALIZATION\\mytext.txt\",\"a+\")\n",
    "myfile.writelines(text)\n",
    "print(\"Where the file cursor is??????\")\n",
    "print(myfile.tell())\n",
    "myfile.seek(10)\n",
    "#for  i in myfile:\n",
    "#    print(i)\n",
    "print(myfile.read())"
   ]
  },
  {
   "cell_type": "code",
   "execution_count": null,
   "metadata": {},
   "outputs": [],
   "source": []
  }
 ],
 "metadata": {
  "kernelspec": {
   "display_name": "Python 3",
   "language": "python",
   "name": "python3"
  },
  "language_info": {
   "codemirror_mode": {
    "name": "ipython",
    "version": 3
   },
   "file_extension": ".py",
   "mimetype": "text/x-python",
   "name": "python",
   "nbconvert_exporter": "python",
   "pygments_lexer": "ipython3",
   "version": "3.7.6"
  }
 },
 "nbformat": 4,
 "nbformat_minor": 4
}
